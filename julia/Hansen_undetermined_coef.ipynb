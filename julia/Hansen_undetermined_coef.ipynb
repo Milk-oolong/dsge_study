{
 "cells": [
  {
   "cell_type": "markdown",
   "metadata": {},
   "source": [
    "### Method of undetermined coefficients for Hansen model"
   ]
  },
  {
   "cell_type": "markdown",
   "metadata": {},
   "source": [
    "Задаём скаляры:"
   ]
  },
  {
   "cell_type": "code",
   "execution_count": 3,
   "metadata": {
    "collapsed": false
   },
   "outputs": [],
   "source": [
    "theta = 0.36\n",
    "beta = 0.99\n",
    "delta = 0.025\n",
    "A = 1.72 \n",
    "rbar = 1 / beta - 1 + delta \n",
    "one_bd = (1 - beta * (1 - delta))\n",
    "hbar = (1 - theta) * one_bd / \n",
    "    ((1 - theta) * one_bd + A * (one_bd - beta * delta * theta))\n",
    "kbar = hbar * (theta / rbar)^(1 / (1 - theta))\n",
    "ybar = kbar^theta * hbar^(1 - theta)\n",
    "cbar = ybar - delta * kbar; "
   ]
  },
  {
   "cell_type": "markdown",
   "metadata": {},
   "source": [
    "Знак `;` в конце не обязателен. Без него на экран будет выводиться результат последней операции."
   ]
  },
  {
   "cell_type": "markdown",
   "metadata": {},
   "source": [
    "Задаём матрицы:"
   ]
  },
  {
   "cell_type": "code",
   "execution_count": 4,
   "metadata": {
    "collapsed": true
   },
   "outputs": [],
   "source": [
    "A = [0 -kbar 0 0]'\n",
    "B = [0 (1 - delta) * kbar theta -1]'\n",
    "C = [1 -1 -1 / (1 - hbar) 0; \n",
    "    ybar -cbar 0 0; \n",
    "    -1 0 1 - theta 0; \n",
    "    1 0 0 -1]\n",
    "D = [0 0 1 0]' \n",
    "F = [0]\n",
    "G = [0] \n",
    "H = [0]\n",
    "J = [0 -1 0 beta * rbar]\n",
    "K = [0 1 0 0]\n",
    "L = [0]\n",
    "M = [0]\n",
    "N = [0.95];"
   ]
  },
  {
   "cell_type": "markdown",
   "metadata": {},
   "source": [
    "Считаем вкусности:"
   ]
  },
  {
   "cell_type": "code",
   "execution_count": 7,
   "metadata": {
    "collapsed": false
   },
   "outputs": [],
   "source": [
    "a = F - J * inv(C) * A \n",
    "b = -(J * inv(C) * B - G + K * inv(C) * A)\n",
    "c =  -K * inv(C) * B + H\n",
    "discr = b^2 - 4 * a * c \n",
    "p1 = (-b + sqrt(discr)) / (2 * a)\n",
    "p2 = (-b - sqrt(discr)) / (2 * a);"
   ]
  },
  {
   "cell_type": "markdown",
   "metadata": {},
   "source": [
    "Смотрим на корни:"
   ]
  },
  {
   "cell_type": "code",
   "execution_count": 8,
   "metadata": {
    "collapsed": false
   },
   "outputs": [
    {
     "data": {
      "text/plain": [
       "(\n",
       "[1.05917],\n",
       "\n",
       "[0.953674])"
      ]
     },
     "execution_count": 8,
     "metadata": {},
     "output_type": "execute_result"
    }
   ],
   "source": [
    "p1, p2"
   ]
  },
  {
   "cell_type": "markdown",
   "metadata": {},
   "source": [
    "Берём тот, что внутри единичного круга:"
   ]
  },
  {
   "cell_type": "code",
   "execution_count": 9,
   "metadata": {
    "collapsed": true
   },
   "outputs": [],
   "source": [
    "P = p2;"
   ]
  },
  {
   "cell_type": "code",
   "execution_count": 11,
   "metadata": {
    "collapsed": false
   },
   "outputs": [],
   "source": [
    "R = -inv(C) * (A * P + B)\n",
    "q1 = kron(N', (F - J * inv(C) * A)) + (J * R + F * P + G - K * inv(C) * A)\n",
    "q2 = (J * inv(C) * D - L) * N + K * inv(C) * D - M\n",
    "Q = q2 / q1 \n",
    "S = -inv(C) * (A * Q + D);"
   ]
  },
  {
   "cell_type": "code",
   "execution_count": null,
   "metadata": {
    "collapsed": true
   },
   "outputs": [],
   "source": []
  }
 ],
 "metadata": {
  "anaconda-cloud": {},
  "kernelspec": {
   "display_name": "Julia 0.5.0",
   "language": "julia",
   "name": "julia-0.5"
  },
  "language_info": {
   "file_extension": ".jl",
   "mimetype": "application/julia",
   "name": "julia",
   "version": "0.5.0"
  }
 },
 "nbformat": 4,
 "nbformat_minor": 1
}
