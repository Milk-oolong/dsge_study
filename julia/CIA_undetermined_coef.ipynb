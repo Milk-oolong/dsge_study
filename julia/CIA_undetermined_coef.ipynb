{
 "cells": [
  {
   "cell_type": "markdown",
   "metadata": {},
   "source": [
    "Method of undetermined coefficients for CIA baseline model\n",
    "\n",
    "Метод неопределённых коэффициентов для модели CIA\n",
    "\n",
    "Задаём скаляры!"
   ]
  },
  {
   "cell_type": "code",
   "execution_count": 8,
   "metadata": {
    "collapsed": false
   },
   "outputs": [],
   "source": [
    "theta = 0.36\n",
    "beta = 0.99\n",
    "delta = 0.025\n",
    "A = 1.72\n",
    "B = -2.5805\n",
    "gamma = 0.95\n",
    "pi = 0.48\n",
    "# gbar = 1.02\n",
    "gbar = 1\n",
    "rbar = 1 / beta - 1 + delta\n",
    "wbar = (1 - theta) * (rbar / theta)^(theta / (theta - 1))\n",
    "cbar = -beta * wbar / gbar / B\n",
    "kbar = cbar / (rbar / theta - delta)\n",
    "hbar = (rbar / theta)^(1 / (1 - theta)) * kbar\n",
    "pbar = 1 / cbar\n",
    "k = 2"
   ]
  },
  {
   "cell_type": "markdown",
   "metadata": {},
   "source": [
    "Задаём кучу матриц :)"
   ]
  },
  {
   "cell_type": "code",
   "execution_count": 26,
   "metadata": {
    "collapsed": true
   },
   "outputs": [],
   "source": [
    "A = [kbar 0 0 0]'"
   ]
  },
  {
   "cell_type": "code",
   "execution_count": 40,
   "metadata": {
    "collapsed": false
   },
   "outputs": [],
   "source": [
    "B = [-(rbar + 1 - delta) * kbar (1 - theta)  -theta 0]'"
   ]
  },
  {
   "cell_type": "code",
   "execution_count": 11,
   "metadata": {
    "collapsed": true
   },
   "outputs": [],
   "source": [
    "C = [-rbar * kbar   -wbar * hbar  -wbar * hbar  -1 / pbar; \n",
    "       1 0 (theta - 1) 0;\n",
    "       0 1 theta 0; \n",
    "       0  -1 0  -1] "
   ]
  },
  {
   "cell_type": "code",
   "execution_count": 15,
   "metadata": {
    "collapsed": true
   },
   "outputs": [],
   "source": [
    "D = [0 0; \n",
    "    -1 0; \n",
    "    -1 0; \n",
    "    0 pi] \n",
    "F = [0]\n",
    "G = [0] \n",
    "H = [0]"
   ]
  },
  {
   "cell_type": "code",
   "execution_count": 68,
   "metadata": {
    "collapsed": false
   },
   "outputs": [
    {
     "data": {
      "text/plain": [
       "1×2 Array{Int64,2}:\n",
       " 0  0"
      ]
     },
     "execution_count": 68,
     "metadata": {},
     "output_type": "execute_result"
    }
   ],
   "source": [
    "J = [beta * rbar -1 0 0]\n",
    "K = [0 1 0 0]\n",
    "L = [0 0]\n",
    "M = [0 0]"
   ]
  },
  {
   "cell_type": "code",
   "execution_count": 69,
   "metadata": {
    "collapsed": false
   },
   "outputs": [
    {
     "data": {
      "text/plain": [
       "2×2 Array{Float64,2}:\n",
       " 0.95  0.0 \n",
       " 0.0   0.48"
      ]
     },
     "execution_count": 69,
     "metadata": {},
     "output_type": "execute_result"
    }
   ],
   "source": [
    "N = [gamma 0;\n",
    "    0 pi]"
   ]
  },
  {
   "cell_type": "markdown",
   "metadata": {},
   "source": [
    "Ух! Считаем всякие вкусности:"
   ]
  },
  {
   "cell_type": "code",
   "execution_count": 43,
   "metadata": {
    "collapsed": false
   },
   "outputs": [
    {
     "data": {
      "text/plain": [
       "1×1 Array{Float64,2}:\n",
       " 0.941817"
      ]
     },
     "execution_count": 43,
     "metadata": {},
     "output_type": "execute_result"
    }
   ],
   "source": [
    "a = F - J * inv(C) * A\n",
    "b = -(J * inv(C) * B - G + K * inv(C) * A)\n",
    "c = -K * inv(C) * B + H\n",
    "discr = b^2 - 4 * a * c\n",
    "p1 = (-b + sqrt(discr)) / (2 * a)\n",
    "p2 = (-b - sqrt(discr)) / (2 * a)"
   ]
  },
  {
   "cell_type": "markdown",
   "metadata": {},
   "source": [
    "Из двух корней выберем тот, что лежит внутри единичного круга, если такой есть. \n",
    "\n",
    "Здесь код **julia** немного отличается от **matlab**. В **matlab** \"abs(p1)\", в **julia** \"abs(p1[1, 1])\". **Julia** — девушка более строгого поведения/типизирования и запрещает сравнивать массивы со скаляром при проверке условия. А **matlab** вольно трактует массив размера один на один как скаляр и разрешает сравнивать скаляр со скаляром."
   ]
  },
  {
   "cell_type": "code",
   "execution_count": 66,
   "metadata": {
    "collapsed": false
   },
   "outputs": [
    {
     "data": {
      "text/plain": [
       "1×1 Array{Float64,2}:\n",
       " 0.941817"
      ]
     },
     "execution_count": 66,
     "metadata": {},
     "output_type": "execute_result"
    }
   ],
   "source": [
    "if (abs(p1[1, 1]) < 1)\n",
    "    P = p1\n",
    "    elseif (abs(p2[1, 1]) < 1)\n",
    "    P = p2\n",
    "else\n",
    "    println(\"I'm sorry, both roots are unstable.\")\n",
    "end "
   ]
  },
  {
   "cell_type": "markdown",
   "metadata": {},
   "source": [
    "Продолжаем разговор :)\n",
    "\n",
    "Снова небольшая разница с **matlab**: присваивание в два скаляра сразу реализуется без квадратных скобок. **Julia**, как подобает воспитанной девушке, понимает разницу между двумя скалярами и матрицей размера 1 на 2."
   ]
  },
  {
   "cell_type": "code",
   "execution_count": 76,
   "metadata": {
    "collapsed": false
   },
   "outputs": [
    {
     "data": {
      "text/plain": [
       "4×2 Array{Float64,2}:\n",
       "  1.94173   -0.0555083\n",
       "  0.470274   0.0312234\n",
       "  1.47146   -0.0867318\n",
       " -0.470274   0.448777 "
      ]
     },
     "execution_count": 76,
     "metadata": {},
     "output_type": "execute_result"
    }
   ],
   "source": [
    "R = -inv(C) * (A * P + B)\n",
    "q1 = kron(N', (F - J * inv(C) * A)) + \n",
    "         kron(eye(k), (J * R + F * P + G - K * inv(C) * A))\n",
    "q2_old = (J * inv(C) * D - L) * N + K * inv(C) * D - M\n",
    "r, c = size(q2_old)\n",
    "q2 = reshape(q2_old, c, r) \n",
    "Q = inv(q1) * q2\n",
    "Q = Q'\n",
    "S = -inv(C) * (A * Q + D)"
   ]
  },
  {
   "cell_type": "code",
   "execution_count": null,
   "metadata": {
    "collapsed": true
   },
   "outputs": [],
   "source": []
  }
 ],
 "metadata": {
  "anaconda-cloud": {},
  "kernelspec": {
   "display_name": "Julia 0.5.0",
   "language": "julia",
   "name": "julia-0.5"
  },
  "language_info": {
   "file_extension": ".jl",
   "mimetype": "application/julia",
   "name": "julia",
   "version": "0.5.0"
  }
 },
 "nbformat": 4,
 "nbformat_minor": 1
}
