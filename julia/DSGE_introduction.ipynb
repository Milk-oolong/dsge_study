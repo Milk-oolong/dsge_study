{
 "cells": [
  {
   "cell_type": "markdown",
   "metadata": {},
   "source": [
    "## Введение в Dynare + Julia\n",
    "\n",
    "Сначала надо поставить Dynare\n",
    "```julia\n",
    "Pkg.add(\"Dynare\")\n",
    "Pkg.checkout(\"Dynare\")\n",
    "```\n",
    "Но он, зараза, выдаёт ошибку при подключении `using Dynare` :(\n",
    "\n",
    "Что у нас ещё по DSGE в julia?\n",
    "\n",
    "Во-первых, DSGE модель от Bank of NY:\n",
    "```julia\n",
    "Pkg.add(\"DSGE\")\n",
    "Pkg.checkout(\"DSGE\")\n",
    "```\n",
    "\n",
    "Во-вторых, SolveDSGE:\n",
    "```julia\n",
    "Pkg.add(\"SolveDSGE\")\n",
    "Pkg.checkout(\"SolveDSGE\")\n",
    "```\n"
   ]
  },
  {
   "cell_type": "code",
   "execution_count": 2,
   "metadata": {
    "collapsed": false
   },
   "outputs": [],
   "source": [
    "# using Dynare # gives error"
   ]
  },
  {
   "cell_type": "code",
   "execution_count": 7,
   "metadata": {
    "collapsed": true
   },
   "outputs": [],
   "source": [
    "using SolveDSGE"
   ]
  },
  {
   "cell_type": "code",
   "execution_count": null,
   "metadata": {
    "collapsed": true
   },
   "outputs": [],
   "source": []
  }
 ],
 "metadata": {
  "anaconda-cloud": {},
  "kernelspec": {
   "display_name": "Julia 0.5.0",
   "language": "julia",
   "name": "julia-0.5"
  },
  "language_info": {
   "file_extension": ".jl",
   "mimetype": "application/julia",
   "name": "julia",
   "version": "0.5.0"
  }
 },
 "nbformat": 4,
 "nbformat_minor": 1
}
